{
 "cells": [
  {
   "cell_type": "markdown",
   "id": "be6bda27",
   "metadata": {},
   "source": [
    "# Minimum Norm Interpolant"
   ]
  },
  {
   "cell_type": "code",
   "execution_count": 1,
   "id": "ee58a952-6a96-494f-8067-0ea6036c2572",
   "metadata": {
    "execution": {
     "iopub.execute_input": "2024-08-07T20:10:24.908831Z",
     "iopub.status.busy": "2024-08-07T20:10:24.908521Z",
     "iopub.status.idle": "2024-08-07T20:10:25.960003Z",
     "shell.execute_reply": "2024-08-07T20:10:25.959395Z",
     "shell.execute_reply.started": "2024-08-07T20:10:24.908808Z"
    }
   },
   "outputs": [],
   "source": [
    "import numpy as np\n",
    "import jax.numpy as jnp\n",
    "import lineax as lx\n",
    "import matplotlib.pyplot as plt\n",
    "\n",
    "from sklearn.linear_model import LinearRegression\n",
    "from statsmodels.api import OLS\n"
   ]
  },
  {
   "cell_type": "markdown",
   "id": "b600e803-0dc3-466f-a46c-8b1fa329d97d",
   "metadata": {},
   "source": [
    "$n>p$ dgp, OLS solution not unique"
   ]
  },
  {
   "cell_type": "code",
   "execution_count": 2,
   "id": "8b778f4c-7ea7-4823-97d1-98a3d118e9fd",
   "metadata": {
    "execution": {
     "iopub.execute_input": "2024-08-07T20:10:27.002244Z",
     "iopub.status.busy": "2024-08-07T20:10:27.001851Z",
     "iopub.status.idle": "2024-08-07T20:10:30.681932Z",
     "shell.execute_reply": "2024-08-07T20:10:30.681240Z",
     "shell.execute_reply.started": "2024-08-07T20:10:27.002225Z"
    },
    "tags": []
   },
   "outputs": [],
   "source": [
    "def sparse_dgp(n = 10_000, p = 20_000, eta = 0.1):\n",
    "    X = np.c_[np.repeat(1, n),\n",
    "            np.random.normal(size = n*p).reshape((n, p))\n",
    "        ]\n",
    "    # initialize coef vector\n",
    "    β, nzcount = np.repeat(0.0, p + 1), int(eta * p)\n",
    "    # choose nzcount number of non-zero coef\n",
    "    nzid = np.random.choice(p, nzcount, replace=False)\n",
    "    # set them to random values\n",
    "    β[nzid] = np.random.randn(nzcount)\n",
    "    # build in heteroskedasticity\n",
    "    e = np.random.normal(0, 0.5 + (0.1 * X[:, 1]>0), n)\n",
    "    # generate y\n",
    "    y = X @ β + e\n",
    "    return y, X\n",
    "\n",
    "y, X = sparse_dgp()\n"
   ]
  },
  {
   "cell_type": "markdown",
   "id": "bc4600f1-21c9-4d56-a838-238a449e6622",
   "metadata": {},
   "source": [
    "### statsmodels"
   ]
  },
  {
   "cell_type": "code",
   "execution_count": 3,
   "id": "f55c4df2",
   "metadata": {
    "execution": {
     "iopub.execute_input": "2024-08-07T20:10:50.994546Z",
     "iopub.status.busy": "2024-08-07T20:10:50.994120Z",
     "iopub.status.idle": "2024-08-07T20:12:57.233971Z",
     "shell.execute_reply": "2024-08-07T20:12:57.233090Z",
     "shell.execute_reply.started": "2024-08-07T20:10:50.994526Z"
    }
   },
   "outputs": [
    {
     "name": "stdout",
     "output_type": "stream",
     "text": [
      "CPU times: user 1h 24min 14s, sys: 34min 40s, total: 1h 58min 55s\n",
      "Wall time: 2min 6s\n"
     ]
    }
   ],
   "source": [
    "%%time\n",
    "smols = OLS(y, X).fit()"
   ]
  },
  {
   "cell_type": "code",
   "execution_count": 4,
   "id": "ab2705b3",
   "metadata": {
    "execution": {
     "iopub.execute_input": "2024-08-07T20:12:57.235703Z",
     "iopub.status.busy": "2024-08-07T20:12:57.235326Z",
     "iopub.status.idle": "2024-08-07T20:12:57.240783Z",
     "shell.execute_reply": "2024-08-07T20:12:57.240344Z",
     "shell.execute_reply.started": "2024-08-07T20:12:57.235682Z"
    }
   },
   "outputs": [
    {
     "data": {
      "text/plain": [
       "32.06474491647644"
      ]
     },
     "execution_count": 4,
     "metadata": {},
     "output_type": "execute_result"
    }
   ],
   "source": [
    "np.linalg.norm(smols.params)"
   ]
  },
  {
   "cell_type": "markdown",
   "id": "4e49c36b-af05-4e09-896f-6895f6207d66",
   "metadata": {},
   "source": [
    "Statsmodels is very slow with such problems."
   ]
  },
  {
   "cell_type": "markdown",
   "id": "7d19a866-7360-4fa2-8eb8-3f2f6a538e58",
   "metadata": {},
   "source": [
    "### scikit"
   ]
  },
  {
   "cell_type": "code",
   "execution_count": 7,
   "id": "82c630be",
   "metadata": {
    "execution": {
     "iopub.execute_input": "2024-08-07T20:13:16.255033Z",
     "iopub.status.busy": "2024-08-07T20:13:16.254911Z",
     "iopub.status.idle": "2024-08-07T20:14:07.937802Z",
     "shell.execute_reply": "2024-08-07T20:14:07.937238Z",
     "shell.execute_reply.started": "2024-08-07T20:13:16.255020Z"
    }
   },
   "outputs": [
    {
     "name": "stdout",
     "output_type": "stream",
     "text": [
      "CPU times: user 35min 26s, sys: 13min 45s, total: 49min 11s\n",
      "Wall time: 51.5 s\n"
     ]
    },
    {
     "data": {
      "text/plain": [
       "1.794120407794253e-12"
      ]
     },
     "execution_count": 7,
     "metadata": {},
     "output_type": "execute_result"
    }
   ],
   "source": [
    "%%time\n",
    "m = LinearRegression()\n",
    "m.fit(X, y)\n",
    "(y - m.predict(X)).max()\n"
   ]
  },
  {
   "cell_type": "code",
   "execution_count": 8,
   "id": "47998a93",
   "metadata": {
    "execution": {
     "iopub.execute_input": "2024-08-07T20:14:07.939157Z",
     "iopub.status.busy": "2024-08-07T20:14:07.938685Z",
     "iopub.status.idle": "2024-08-07T20:14:07.942731Z",
     "shell.execute_reply": "2024-08-07T20:14:07.942369Z",
     "shell.execute_reply.started": "2024-08-07T20:14:07.939133Z"
    }
   },
   "outputs": [
    {
     "data": {
      "text/plain": [
       "32.063915612235505"
      ]
     },
     "execution_count": 8,
     "metadata": {},
     "output_type": "execute_result"
    }
   ],
   "source": [
    "np.linalg.norm(m.coef_)\n"
   ]
  },
  {
   "cell_type": "markdown",
   "id": "2d8a87e2-ea14-4cb8-b9fa-7d261c741251",
   "metadata": {},
   "source": [
    "### lineax\n",
    "\n",
    "Very fast least squares solver (including for minimum norm interpolation problems). \n"
   ]
  },
  {
   "cell_type": "code",
   "execution_count": 5,
   "id": "3207d070-779f-4107-9763-d0cda1a311e2",
   "metadata": {
    "execution": {
     "iopub.execute_input": "2024-08-07T20:12:57.241449Z",
     "iopub.status.busy": "2024-08-07T20:12:57.241317Z",
     "iopub.status.idle": "2024-08-07T20:13:16.249450Z",
     "shell.execute_reply": "2024-08-07T20:13:16.248802Z",
     "shell.execute_reply.started": "2024-08-07T20:12:57.241436Z"
    }
   },
   "outputs": [
    {
     "name": "stdout",
     "output_type": "stream",
     "text": [
      "CPU times: user 10min 31s, sys: 3min 35s, total: 14min 6s\n",
      "Wall time: 18.9 s\n"
     ]
    },
    {
     "data": {
      "text/plain": [
       "Array(0.00014114, dtype=float32)"
      ]
     },
     "execution_count": 5,
     "metadata": {},
     "output_type": "execute_result"
    }
   ],
   "source": [
    "%%time\n",
    "sol = lx.linear_solve(                                    # solve # Ax = b\n",
    "        operator = lx.MatrixLinearOperator(jnp.array(X)), # A\n",
    "        vector = jnp.array(y),                            # b\n",
    "        solver=lx.AutoLinearSolver(well_posed=None),      \n",
    "    )\n",
    "\n",
    "betahat = sol.value\n",
    "# does it interpolate\n",
    "(y - X @ betahat).max()"
   ]
  },
  {
   "cell_type": "code",
   "execution_count": 6,
   "id": "24e09278-3a2c-4bec-b0db-9547278d51cc",
   "metadata": {
    "execution": {
     "iopub.execute_input": "2024-08-07T20:13:16.250977Z",
     "iopub.status.busy": "2024-08-07T20:13:16.250825Z",
     "iopub.status.idle": "2024-08-07T20:13:16.254344Z",
     "shell.execute_reply": "2024-08-07T20:13:16.253966Z",
     "shell.execute_reply.started": "2024-08-07T20:13:16.250962Z"
    }
   },
   "outputs": [
    {
     "data": {
      "text/plain": [
       "32.064747"
      ]
     },
     "execution_count": 6,
     "metadata": {},
     "output_type": "execute_result"
    }
   ],
   "source": [
    "np.linalg.norm(betahat)\n"
   ]
  }
 ],
 "metadata": {
  "kernelspec": {
   "display_name": "Python 3.10 (recommended)",
   "language": "python",
   "name": "python310"
  },
  "language_info": {
   "codemirror_mode": {
    "name": "ipython",
    "version": 3
   },
   "file_extension": ".py",
   "mimetype": "text/x-python",
   "name": "python",
   "nbconvert_exporter": "python",
   "pygments_lexer": "ipython3",
   "version": "3.10.14"
  }
 },
 "nbformat": 4,
 "nbformat_minor": 5
}
