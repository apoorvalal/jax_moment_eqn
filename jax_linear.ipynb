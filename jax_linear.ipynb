{
 "cells": [
  {
   "cell_type": "markdown",
   "id": "be6bda27",
   "metadata": {},
   "source": [
    "# Minimum Norm Interpolant"
   ]
  },
  {
   "cell_type": "code",
   "execution_count": 2,
   "id": "ee58a952-6a96-494f-8067-0ea6036c2572",
   "metadata": {},
   "outputs": [],
   "source": [
    "import numpy as np\n",
    "import jax.numpy as jnp\n",
    "import lineax as lx\n",
    "import matplotlib.pyplot as plt\n",
    "\n",
    "from sklearn.linear_model import LinearRegression\n",
    "from statsmodels.api import OLS\n"
   ]
  },
  {
   "cell_type": "code",
   "execution_count": 3,
   "id": "8b778f4c-7ea7-4823-97d1-98a3d118e9fd",
   "metadata": {
    "tags": []
   },
   "outputs": [],
   "source": [
    "def sparse_dgp(n = 10_000, p = 20_000, eta = 0.1):\n",
    "    X = np.c_[np.repeat(1, n),\n",
    "            np.random.normal(size = n*p).reshape((n, p))\n",
    "        ]\n",
    "    # initialize coef vector\n",
    "    β, nzcount = np.repeat(0.0, p + 1), int(eta * p)\n",
    "    # choose nzcount number of non-zero coef\n",
    "    nzid = np.random.choice(p, nzcount, replace=False)\n",
    "    # set them to random values\n",
    "    β[nzid] = np.random.randn(nzcount)\n",
    "    # build in heteroskedasticity\n",
    "    e = np.random.normal(0, 0.5 + (0.1 * X[:, 1]>0), n)\n",
    "    # generate y\n",
    "    y = X @ β + e\n",
    "    return y, X\n",
    "\n",
    "y, X = sparse_dgp()\n"
   ]
  },
  {
   "cell_type": "code",
   "execution_count": 4,
   "id": "f55c4df2",
   "metadata": {},
   "outputs": [
    {
     "name": "stdout",
     "output_type": "stream",
     "text": [
      "CPU times: user 2h 23min 9s, sys: 58min 50s, total: 3h 22min\n",
      "Wall time: 14min 32s\n"
     ]
    }
   ],
   "source": [
    "%%time\n",
    "smols = OLS(y, X).fit()"
   ]
  },
  {
   "cell_type": "code",
   "execution_count": 6,
   "id": "ab2705b3",
   "metadata": {},
   "outputs": [
    {
     "data": {
      "text/plain": [
       "31.803339628159765"
      ]
     },
     "execution_count": 6,
     "metadata": {},
     "output_type": "execute_result"
    }
   ],
   "source": [
    "\n",
    "np.linalg.norm(smols.params)"
   ]
  },
  {
   "cell_type": "markdown",
   "metadata": {},
   "source": [
    "Very fast least squares solver (including for minimum norm interpolation problems). \n"
   ]
  },
  {
   "cell_type": "code",
   "execution_count": 7,
   "metadata": {},
   "outputs": [
    {
     "name": "stdout",
     "output_type": "stream",
     "text": [
      "CPU times: user 1h 24min 3s, sys: 1.51 s, total: 1h 24min 5s\n",
      "Wall time: 6min 14s\n"
     ]
    },
    {
     "data": {
      "text/plain": [
       "Array(0.0001564, dtype=float32)"
      ]
     },
     "execution_count": 7,
     "metadata": {},
     "output_type": "execute_result"
    }
   ],
   "source": [
    "%%time\n",
    "sol = lx.linear_solve(                                    # solve # Ax = b\n",
    "        operator = lx.MatrixLinearOperator(jnp.array(X)), # A\n",
    "        vector = jnp.array(y),                            # b\n",
    "        solver=lx.AutoLinearSolver(well_posed=None),      # auto solver with no well-posedness check\n",
    "    )\n",
    "\n",
    "betahat = sol.value\n",
    "# does it interpolate\n",
    "(y - X @ betahat).max()\n"
   ]
  },
  {
   "cell_type": "code",
   "execution_count": 8,
   "metadata": {},
   "outputs": [
    {
     "data": {
      "text/plain": [
       "31.80334"
      ]
     },
     "execution_count": 8,
     "metadata": {},
     "output_type": "execute_result"
    }
   ],
   "source": [
    "np.linalg.norm(betahat)\n"
   ]
  },
  {
   "cell_type": "code",
   "execution_count": 9,
   "metadata": {},
   "outputs": [
    {
     "name": "stdout",
     "output_type": "stream",
     "text": [
      "CPU times: user 3h 1min 55s, sys: 0 ns, total: 3h 1min 55s\n",
      "Wall time: 13min 44s\n"
     ]
    },
    {
     "data": {
      "text/plain": [
       "1.538325022920617e-12"
      ]
     },
     "execution_count": 9,
     "metadata": {},
     "output_type": "execute_result"
    }
   ],
   "source": [
    "%%time\n",
    "m = LinearRegression()\n",
    "m.fit(X, y)\n",
    "(y - m.predict(X)).max()\n"
   ]
  },
  {
   "cell_type": "code",
   "execution_count": 10,
   "metadata": {},
   "outputs": [
    {
     "data": {
      "text/plain": [
       "31.8032580188364"
      ]
     },
     "execution_count": 10,
     "metadata": {},
     "output_type": "execute_result"
    }
   ],
   "source": [
    "np.linalg.norm(m.coef_)\n"
   ]
  }
 ],
 "metadata": {
  "kernelspec": {
   "display_name": "metrics",
   "language": "python",
   "name": "python3"
  },
  "language_info": {
   "codemirror_mode": {
    "name": "ipython",
    "version": 3
   },
   "file_extension": ".py",
   "mimetype": "text/x-python",
   "name": "python",
   "nbconvert_exporter": "python",
   "pygments_lexer": "ipython3",
   "version": "3.10.14"
  }
 },
 "nbformat": 4,
 "nbformat_minor": 5
}
