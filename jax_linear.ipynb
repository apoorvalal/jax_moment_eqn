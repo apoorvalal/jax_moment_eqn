{
 "cells": [
  {
   "cell_type": "code",
   "execution_count": 1,
   "id": "ee58a952-6a96-494f-8067-0ea6036c2572",
   "metadata": {},
   "outputs": [],
   "source": [
    "import numpy as np\n",
    "import jax.numpy as jnp\n",
    "import lineax as lx\n",
    "import matplotlib.pyplot as plt\n",
    "import statsmodels.api as sm\n",
    "\n",
    "from sklearn.linear_model import LinearRegression\n"
   ]
  },
  {
   "cell_type": "code",
   "execution_count": 12,
   "id": "8b778f4c-7ea7-4823-97d1-98a3d118e9fd",
   "metadata": {
    "tags": []
   },
   "outputs": [],
   "source": [
    "n, p, η = 10_000, 20_000, 0.1\n",
    "X = np.c_[np.repeat(1, n),\n",
    "        np.random.normal(size = n*p).reshape((n, p))\n",
    "    ]\n",
    "β, nzcount = np.repeat(0.0, p + 1), int(η * p)\n",
    "nzid = np.random.choice(p, nzcount, replace=False)\n",
    "β[nzid] = np.random.randn(nzcount)\n",
    "e = np.random.normal(0, 0.5 + (0.1 * X[:, 1]>0), n) # heteroskedasticity\n",
    "y = X @ β + e\n"
   ]
  },
  {
   "cell_type": "code",
   "execution_count": 9,
   "metadata": {},
   "outputs": [
    {
     "name": "stdout",
     "output_type": "stream",
     "text": [
      "CPU times: user 3min 17s, sys: 27.1 s, total: 3min 44s\n",
      "Wall time: 21.2 s\n"
     ]
    }
   ],
   "source": [
    "%%time\n",
    "sol = lx.linear_solve(\n",
    "        lx.MatrixLinearOperator(jnp.array(X)),\n",
    "        jnp.array(y),\n",
    "        solver=lx.AutoLinearSolver(well_posed=None),\n",
    "    )\n"
   ]
  },
  {
   "cell_type": "code",
   "execution_count": 11,
   "metadata": {},
   "outputs": [
    {
     "data": {
      "text/plain": [
       "Array(0.00017548, dtype=float32)"
      ]
     },
     "execution_count": 11,
     "metadata": {},
     "output_type": "execute_result"
    }
   ],
   "source": [
    "betahat = sol.value\n",
    "\n",
    "(y - X @ betahat).max()\n"
   ]
  }
 ],
 "metadata": {
  "kernelspec": {
   "display_name": "metrics",
   "language": "python",
   "name": "python3"
  },
  "language_info": {
   "codemirror_mode": {
    "name": "ipython",
    "version": 3
   },
   "file_extension": ".py",
   "mimetype": "text/x-python",
   "name": "python",
   "nbconvert_exporter": "python",
   "pygments_lexer": "ipython3",
   "version": "3.11.5"
  }
 },
 "nbformat": 4,
 "nbformat_minor": 5
}
