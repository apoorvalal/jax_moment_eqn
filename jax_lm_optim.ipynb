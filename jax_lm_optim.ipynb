{
 "cells": [
  {
   "cell_type": "code",
   "execution_count": 3,
   "metadata": {},
   "outputs": [],
   "source": [
    "import jax\n",
    "import jax.numpy as jnp\n",
    "from sklearn.datasets import make_regression\n",
    "from sklearn.model_selection import train_test_split\n"
   ]
  },
  {
   "cell_type": "code",
   "execution_count": 4,
   "metadata": {},
   "outputs": [
    {
     "data": {
      "text/plain": [
       "(array([75.06147516, 28.20345726, 17.74395438]),\n",
       " Array([[ 1.        ,  0.17136829,  0.19686124,  0.73846656],\n",
       "        [ 1.        , -1.4247482 , -0.2257763 ,  0.0675282 ]],      dtype=float32),\n",
       " array([  31.51864074, -112.11315545]))"
      ]
     },
     "execution_count": 4,
     "metadata": {},
     "output_type": "execute_result"
    }
   ],
   "source": [
    "# create dataset\n",
    "X, y, β = make_regression(n_features=3, coef=True, random_state=42)\n",
    "X, X_test, y, y_test = train_test_split(X, y)\n",
    "X, X_test = jnp.c_[jnp.ones(X.shape[0]), X], jnp.c_[jnp.ones(X_test.shape[0]), X_test]\n",
    "β, X[:2, :], y[:2]"
   ]
  },
  {
   "cell_type": "code",
   "execution_count": 5,
   "metadata": {},
   "outputs": [],
   "source": [
    "# param dict\n",
    "params = {\n",
    "    \"b\": jnp.zeros(X.shape[1]),\n",
    "}\n",
    "\n",
    "\n",
    "# forward pass: Xbeta\n",
    "def forward(params, X):\n",
    "    return jnp.dot(X, params[\"b\"])\n",
    "\n",
    "\n",
    "@jax.jit\n",
    "def loss_fn(params, X, y):\n",
    "    err = forward(params, X) - y\n",
    "    return jnp.mean(jnp.square(err))  # mse\n",
    "\n",
    "\n",
    "grad_fn = jax.grad(loss_fn)\n",
    "\n",
    "\n",
    "def update(params, grads, lr=0.05):\n",
    "    return jax.tree.map(lambda p, g: p - lr * g, params, grads)"
   ]
  },
  {
   "cell_type": "code",
   "execution_count": 6,
   "metadata": {},
   "outputs": [],
   "source": [
    "# the main training loop\n",
    "for _ in range(50):\n",
    "    loss = loss_fn(params, X_test, y_test)\n",
    "    grads = grad_fn(params, X, y)\n",
    "    params = update(params, grads)\n"
   ]
  },
  {
   "cell_type": "code",
   "execution_count": 7,
   "metadata": {},
   "outputs": [
    {
     "data": {
      "text/plain": [
       "(array([75.06147516, 28.20345726, 17.74395438]),\n",
       " Array([74.25435 , 26.689371, 16.658165], dtype=float32))"
      ]
     },
     "execution_count": 7,
     "metadata": {},
     "output_type": "execute_result"
    }
   ],
   "source": [
    "β, params['b'][1:]"
   ]
  }
 ],
 "metadata": {
  "kernelspec": {
   "display_name": "metrics",
   "language": "python",
   "name": "python3"
  },
  "language_info": {
   "codemirror_mode": {
    "name": "ipython",
    "version": 3
   },
   "file_extension": ".py",
   "mimetype": "text/x-python",
   "name": "python",
   "nbconvert_exporter": "python",
   "pygments_lexer": "ipython3",
   "version": "3.10.14"
  }
 },
 "nbformat": 4,
 "nbformat_minor": 2
}
