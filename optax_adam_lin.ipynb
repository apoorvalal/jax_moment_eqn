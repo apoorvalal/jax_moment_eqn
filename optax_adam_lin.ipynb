{
 "cells": [
  {
   "cell_type": "code",
   "execution_count": 1,
   "metadata": {},
   "outputs": [],
   "source": [
    "import numpy as np\n",
    "import jax.numpy as jnp\n",
    "import jax\n",
    "import optax\n",
    "import functools\n",
    "\n",
    "jax.config.update(\"jax_enable_x64\", True)\n",
    "key = jax.random.PRNGKey(42)\n"
   ]
  },
  {
   "cell_type": "code",
   "execution_count": 2,
   "metadata": {},
   "outputs": [
    {
     "name": "stdout",
     "output_type": "stream",
     "text": [
      "[0.24195682 0.57397975 0.43901027 0.20791509 0.37068355 0.97989601\n",
      " 0.97685815 0.36242998 0.32092    0.54494161]\n"
     ]
    }
   ],
   "source": [
    "n, p = 1000, 10\n",
    "\n",
    "print(β := jax.random.uniform(key, (p,)))\n",
    "X = jax.random.normal(key, (n, p))\n",
    "y = X @ β + jax.random.normal(key, (n,))\n"
   ]
  },
  {
   "cell_type": "markdown",
   "metadata": {},
   "source": [
    "## single-layer neural network with linear activation function (OLS)"
   ]
  },
  {
   "cell_type": "code",
   "execution_count": 3,
   "metadata": {},
   "outputs": [],
   "source": [
    "@functools.partial(jax.vmap, in_axes=(None, 0))\n",
    "def network(params, x):\n",
    "    return jnp.dot(params, x)\n",
    "\n",
    "def compute_loss(params, x, y):\n",
    "    y_pred = network(params, x)\n",
    "    loss = jnp.mean(optax.l2_loss(y_pred, y))\n",
    "    return loss\n"
   ]
  },
  {
   "cell_type": "markdown",
   "metadata": {},
   "source": [
    "Optimisation"
   ]
  },
  {
   "cell_type": "code",
   "execution_count": 4,
   "metadata": {},
   "outputs": [],
   "source": [
    "\n",
    "optimizer = optax.adam(1e-1)\n",
    "# Initialize parameters of the model + optimizer.\n",
    "params = jnp.repeat(0.0, p)\n",
    "opt_state = optimizer.init(params)\n",
    "# A simple update loop.\n",
    "for _ in range(1000):\n",
    "    grads = jax.grad(compute_loss)(params, X, y)\n",
    "    updates, opt_state = optimizer.update(grads, opt_state)\n",
    "    params = optax.apply_updates(params, updates)\n"
   ]
  },
  {
   "cell_type": "code",
   "execution_count": 10,
   "metadata": {},
   "outputs": [
    {
     "name": "stdout",
     "output_type": "stream",
     "text": [
      "[[0.24195682 0.26143229 0.26143229]\n",
      " [0.57397975 0.55450794 0.55450794]\n",
      " [0.43901027 0.44335113 0.44335113]\n",
      " [0.20791509 0.18611259 0.18611259]\n",
      " [0.37068355 0.39626627 0.39626627]\n",
      " [0.97989601 1.01610712 1.01610712]\n",
      " [0.97685815 0.98650555 0.98650555]\n",
      " [0.36242998 0.37793706 0.37793706]\n",
      " [0.32092    0.2965661  0.2965661 ]\n",
      " [0.54494161 0.54387632 0.54387632]]\n"
     ]
    }
   ],
   "source": [
    "print(np.c_[\n",
    "        β,          # truth\n",
    "        params,        # opt estimate\n",
    "        np.linalg.lstsq(X, y, rcond=None)[0] # closed form\n",
    "        ])\n"
   ]
  },
  {
   "cell_type": "markdown",
   "metadata": {},
   "source": [
    "Works well."
   ]
  }
 ],
 "metadata": {
  "kernelspec": {
   "display_name": "py311",
   "language": "python",
   "name": "python3"
  },
  "language_info": {
   "codemirror_mode": {
    "name": "ipython",
    "version": 3
   },
   "file_extension": ".py",
   "mimetype": "text/x-python",
   "name": "python",
   "nbconvert_exporter": "python",
   "pygments_lexer": "ipython3",
   "version": "3.11.4"
  }
 },
 "nbformat": 4,
 "nbformat_minor": 2
}
