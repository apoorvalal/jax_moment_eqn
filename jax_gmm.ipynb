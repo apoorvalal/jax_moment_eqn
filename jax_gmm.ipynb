{
 "cells": [
  {
   "cell_type": "code",
   "execution_count": 2,
   "metadata": {},
   "outputs": [],
   "source": [
    "import numpy as np\n",
    "import pandas as pd\n",
    "import matplotlib.pyplot as plt\n",
    "import seaborn as sns\n",
    "\n",
    "import jax\n",
    "import jax.numpy as jnp\n"
   ]
  },
  {
   "cell_type": "markdown",
   "metadata": {},
   "source": [
    "# GMM done easy\n",
    "\n",
    "moment eqn fn gets a $n \\times k$ matrix of residuals (implied by the moment condition) and minimizes the implied objective function.\n",
    "Uses implicit gradient (and therefore performs better than `scipy.optimize.minimize`)."
   ]
  },
  {
   "cell_type": "code",
   "execution_count": 6,
   "metadata": {},
   "outputs": [],
   "source": [
    "from jaxopt import LevenbergMarquardt\n",
    "from tqdm import tqdm\n",
    "from joblib import Parallel, delayed\n",
    "\n",
    "jax.config.update(\"jax_enable_x64\", True)\n"
   ]
  },
  {
   "cell_type": "code",
   "execution_count": 4,
   "metadata": {},
   "outputs": [],
   "source": [
    "# IV dataset\n",
    "np.random.seed(42)\n",
    "def dgp(b = np.array([1, 2]), N = 1_000, K = 3):\n",
    "    # Instruments\n",
    "    Z = np.random.normal(0, 1, (N, K))\n",
    "    # Covariates\n",
    "    pi = np.random.uniform(1, 2, K)\n",
    "    w = Z @ pi + np.random.normal(0, 1, N) # endogenous treatment\n",
    "    X = np.c_[np.ones(N), w]\n",
    "    # Outcome\n",
    "    y = X @ b + np.random.normal(0, 1, N)\n",
    "    return {\"y\": y, \"X\": X, \"Z\": Z}\n"
   ]
  },
  {
   "cell_type": "code",
   "execution_count": 5,
   "metadata": {},
   "outputs": [
    {
     "data": {
      "text/plain": [
       "Array([0.97738733, 2.00528897], dtype=float64)"
      ]
     },
     "execution_count": 5,
     "metadata": {},
     "output_type": "execute_result"
    }
   ],
   "source": [
    "@jax.jit\n",
    "def moment_cond(b, dat):\n",
    "    y, X, Z = jnp.array(dat['y']), jnp.array(dat['X']), jnp.array(dat['Z'])\n",
    "    resid = y - X @ b\n",
    "    return jnp.array(Z * resid[:, None])\n",
    "\n",
    "def solve_gmm(dat):\n",
    "    x_init = jnp.zeros(dat['X'].shape[1])\n",
    "    gn = LevenbergMarquardt(moment_cond)\n",
    "    return gn.run(x_init, dat = dat).params\n",
    "\n",
    "solve_gmm(dgp())\n"
   ]
  },
  {
   "cell_type": "code",
   "execution_count": 6,
   "metadata": {},
   "outputs": [
    {
     "name": "stderr",
     "output_type": "stream",
     "text": [
      "  0%|          | 0/1000 [00:00<?, ?it/s]/home/alal/Desktop/code/econometrics/.venv/lib/python3.10/site-packages/joblib/externals/loky/backend/fork_exec.py:38: RuntimeWarning: os.fork() was called. os.fork() is incompatible with multithreaded code, and JAX is multithreaded, so this will likely lead to a deadlock.\n",
      "  pid = os.fork()\n",
      " 67%|██████▋   | 672/1000 [01:02<00:30, 10.69it/s]/home/alal/Desktop/code/econometrics/.venv/lib/python3.10/site-packages/joblib/externals/loky/process_executor.py:752: UserWarning: A worker stopped while some jobs were given to the executor. This can be caused by a too short worker timeout or by a memory leak.\n",
      "  warnings.warn(\n",
      "100%|██████████| 1000/1000 [01:40<00:00,  9.94it/s]\n"
     ]
    },
    {
     "name": "stdout",
     "output_type": "stream",
     "text": [
      "CPU times: user 5.63 s, sys: 659 ms, total: 6.29 s\n",
      "Wall time: 1min 44s\n"
     ]
    }
   ],
   "source": [
    "%%time\n",
    "def gmmsim():\n",
    "    df = dgp()\n",
    "    return solve_gmm(df)\n",
    "\n",
    "res = Parallel(n_jobs = -1)(delayed(gmmsim)() for _ in tqdm(range(1000)))\n",
    "res = np.array(res)\n"
   ]
  },
  {
   "cell_type": "code",
   "execution_count": 7,
   "metadata": {},
   "outputs": [
    {
     "data": {
      "image/png": "[encoded data removed]",
      "text/plain": [
       "<Figure size 1200x400 with 2 Axes>"
      ]
     },
     "metadata": {},
     "output_type": "display_data"
    }
   ],
   "source": [
    "f, ax = plt.subplots(1, 2, figsize=(12, 4))\n",
    "# Plot histogram of the 'intercept' column\n",
    "ax[0].hist(np.array(res[:, 0]), color=\"red\", alpha=0.5)\n",
    "ax[0].axvline(x=1, color=\"black\", linestyle=\"--\", label=\"True Value\")\n",
    "\n",
    "# Plot histogram of the 'slope' column\n",
    "ax[1].hist(np.array(res[:, 1]), color=\"red\", alpha=0.5)\n",
    "ax[1].axvline(x=2, color=\"black\", linestyle=\"--\", label=\"True Value\")\n",
    "\n",
    "plt.show()"
   ]
  },
  {
   "cell_type": "markdown",
   "metadata": {},
   "source": [
    "## balancing weights\n",
    "\n",
    "solve dual of ERM problem for exact balance. For details, see [Wang and Zubizarreta](http://jrzubizarreta.com/minimal.pdf)"
   ]
  },
  {
   "cell_type": "code",
   "execution_count": 1,
   "metadata": {},
   "outputs": [],
   "source": [
    "from jaxopt import LBFGS\n",
    "import empirical_calibration as ec\n",
    "import matplotlib.pyplot as plt\n"
   ]
  },
  {
   "cell_type": "code",
   "execution_count": 3,
   "metadata": {},
   "outputs": [],
   "source": [
    "@jax.jit\n",
    "def eb_moment(b, X0, X1):\n",
    "    return jnp.log(jnp.exp(-1 * X0 @ b).sum()) + X1 @ b\n",
    "\n",
    "\n",
    "def ebwt(X0, X1):\n",
    "    init_par = jnp.repeat(1.0, X0.shape[1])\n",
    "    solver = LBFGS(fun=eb_moment, maxiter=100)\n",
    "    res = solver.run(init_par, X0=X0, X1=X1)\n",
    "    wt = np.exp(-1 * X0 @ res.params)\n",
    "    wt /= wt.sum()\n",
    "    return wt"
   ]
  },
  {
   "cell_type": "code",
   "execution_count": 4,
   "metadata": {},
   "outputs": [
    {
     "data": {
      "text/plain": [
       "(-19.865469141404446, 0.10502565330460811)"
      ]
     },
     "execution_count": 4,
     "metadata": {},
     "output_type": "execute_result"
    }
   ],
   "source": [
    "# kang shafer 2007 dgp\n",
    "def onesim():\n",
    "    sim = ec.data.kang_schafer.Simulation(size=1000)\n",
    "    w, y, X = sim.treatment, sim.outcome, np.c_[np.repeat(1, 1000), sim.covariates]\n",
    "    X0, X1 = X[w == 0, :], X[w == 1, :].mean(0)\n",
    "    wt = ebwt(X0, X1)\n",
    "    naive = y[w == 1].mean() - y[w == 0].mean()\n",
    "    wtd = y[w == 1].mean() - np.average(y[w == 0], weights=wt)\n",
    "    return naive, wtd\n",
    "\n",
    "onesim()\n"
   ]
  },
  {
   "cell_type": "code",
   "execution_count": 7,
   "metadata": {},
   "outputs": [
    {
     "name": "stderr",
     "output_type": "stream",
     "text": [
      "  0%|          | 0/1000 [00:00<?, ?it/s]/home/alal/Desktop/code/econometrics/.venv/lib/python3.10/site-packages/joblib/externals/loky/backend/fork_exec.py:38: RuntimeWarning: os.fork() was called. os.fork() is incompatible with multithreaded code, and JAX is multithreaded, so this will likely lead to a deadlock.\n",
      "  pid = os.fork()\n",
      " 27%|██▋       | 272/1000 [01:11<03:20,  3.63it/s]/home/alal/Desktop/code/econometrics/.venv/lib/python3.10/site-packages/joblib/externals/loky/process_executor.py:752: UserWarning: A worker stopped while some jobs were given to the executor. This can be caused by a too short worker timeout or by a memory leak.\n",
      "  warnings.warn(\n",
      "100%|██████████| 1000/1000 [05:20<00:00,  3.12it/s]\n"
     ]
    },
    {
     "name": "stdout",
     "output_type": "stream",
     "text": [
      "CPU times: user 7.77 s, sys: 1.77 s, total: 9.54 s\n",
      "Wall time: 5min 30s\n"
     ]
    }
   ],
   "source": [
    "%%time\n",
    "res = Parallel(n_jobs=-1)(delayed(onesim)() for _ in tqdm(range(1_000)))\n"
   ]
  },
  {
   "cell_type": "code",
   "execution_count": 8,
   "metadata": {},
   "outputs": [
    {
     "data": {
      "text/plain": [
       "<matplotlib.legend.Legend at 0x75a76840ffd0>"
      ]
     },
     "execution_count": 8,
     "metadata": {},
     "output_type": "execute_result"
    },
    {
     "data": {
      "image/png": "[encoded data removed]",
      "text/plain": [
       "<Figure size 640x480 with 1 Axes>"
      ]
     },
     "metadata": {},
     "output_type": "display_data"
    }
   ],
   "source": [
    "simres = pd.DataFrame(res, columns=[\"naive\", \"wtd\"])\n",
    "\n",
    "sns.histplot(simres[\"naive\"], color=\"red\", alpha=0.5, kde=True, label=\"naive\")\n",
    "sns.histplot(simres[\"wtd\"], color=\"blue\", alpha=0.5, kde=True, label=\"wtd\")\n",
    "plt.xlabel(\"bias\")\n",
    "plt.legend()"
   ]
  }
 ],
 "metadata": {
  "kernelspec": {
   "display_name": "metrics",
   "language": "python",
   "name": "python3"
  },
  "language_info": {
   "codemirror_mode": {
    "name": "ipython",
    "version": 3
   },
   "file_extension": ".py",
   "mimetype": "text/x-python",
   "name": "python",
   "nbconvert_exporter": "python",
   "pygments_lexer": "ipython3",
   "version": "3.10.14"
  }
 },
 "nbformat": 4,
 "nbformat_minor": 2
}
